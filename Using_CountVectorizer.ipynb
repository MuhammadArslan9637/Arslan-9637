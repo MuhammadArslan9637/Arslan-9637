{
  "nbformat": 4,
  "nbformat_minor": 0,
  "metadata": {
    "colab": {
      "provenance": [],
      "authorship_tag": "ABX9TyPoxtUzWiyP0uOMhdrl4oGv",
      "include_colab_link": true
    },
    "kernelspec": {
      "name": "python3",
      "display_name": "Python 3"
    }
  },
  "cells": [
    {
      "cell_type": "markdown",
      "metadata": {
        "id": "view-in-github",
        "colab_type": "text"
      },
      "source": [
        "<a href=\"https://colab.research.google.com/github/MuhammadArslan9637/Arslan-9637/blob/main/Using_CountVectorizer.ipynb\" target=\"_parent\"><img src=\"https://colab.research.google.com/assets/colab-badge.svg\" alt=\"Open In Colab\"/></a>"
      ]
    },
    {
      "cell_type": "code",
      "source": [
        "from sklearn.feature_extraction.text import CountVectorizer\n",
        " \n",
        "document = [\"Believe in yourself\",\n",
        "            \"Don't trust anyone\",\n",
        "            \"Never give up\"]\n",
        " \n",
        "# Create a Vectorizer Object\n",
        "vectorizer = CountVectorizer()\n",
        " \n",
        "vectorizer.fit(document)\n",
        " \n",
        "# Printing the identified Unique words along with their indices\n",
        "print(\"Vocabulary: \", vectorizer.vocabulary_)\n",
        " \n",
        "# Encode the Document\n",
        "vector = vectorizer.transform(document)\n",
        " \n",
        "# Summarizing the Encoded Texts\n",
        "print(\"Encoded Document is:\")\n",
        "print(vector.toarray())"
      ],
      "metadata": {
        "colab": {
          "base_uri": "https://localhost:8080/"
        },
        "id": "n3MCrUh-bmhL",
        "outputId": "deea8005-b82b-4ae6-9cd8-f8be35a4e69a"
      },
      "execution_count": null,
      "outputs": [
        {
          "output_type": "stream",
          "name": "stdout",
          "text": [
            "Vocabulary:  {'believe': 1, 'in': 4, 'yourself': 8, 'don': 2, 'trust': 6, 'anyone': 0, 'never': 5, 'give': 3, 'up': 7}\n",
            "Encoded Document is:\n",
            "[[0 1 0 0 1 0 0 0 1]\n",
            " [1 0 1 0 0 0 1 0 0]\n",
            " [0 0 0 1 0 1 0 1 0]]\n"
          ]
        }
      ]
    }
  ]
}